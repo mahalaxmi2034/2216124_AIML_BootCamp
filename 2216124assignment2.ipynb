{
  "nbformat": 4,
  "nbformat_minor": 0,
  "metadata": {
    "colab": {
      "name": "2216124assignment2.ipynb",
      "provenance": [],
      "authorship_tag": "ABX9TyN+YVwHl/1iGG9WCZZEkyyt",
      "include_colab_link": true
    },
    "kernelspec": {
      "name": "python3",
      "display_name": "Python 3"
    },
    "language_info": {
      "name": "python"
    }
  },
  "cells": [
    {
      "cell_type": "markdown",
      "metadata": {
        "id": "view-in-github",
        "colab_type": "text"
      },
      "source": [
        "<a href=\"https://colab.research.google.com/github/mahalaxmi2034/2216124_AIML_BootCamp/blob/main/2216124assignment2.ipynb\" target=\"_parent\"><img src=\"https://colab.research.google.com/assets/colab-badge.svg\" alt=\"Open In Colab\"/></a>"
      ]
    },
    {
      "cell_type": "code",
      "execution_count": 17,
      "metadata": {
        "colab": {
          "base_uri": "https://localhost:8080/"
        },
        "id": "-hFjVcC_aGbI",
        "outputId": "ac7ad7f3-b863-47ca-f46e-eeae935b7ca3"
      },
      "outputs": [
        {
          "output_type": "stream",
          "name": "stdout",
          "text": [
            "true\n",
            "120\n",
            "\n",
            "\n"
          ]
        }
      ],
      "source": [
        "#IF STATEMENT\n",
        "var=120\n",
        "if var>0:\n",
        "  print(\"true\")\n",
        "  print(var)\n",
        "\n",
        "print(\"\\n\")\n",
        "var1=0\n",
        "if var1>0:\n",
        "  print(\"true\")\n",
        "  print(var1)"
      ]
    },
    {
      "cell_type": "code",
      "source": [
        "#IF.....ELSE\n",
        "var2=-1\n",
        "if var2>0: \n",
        "  print(\"true\")\n",
        "  print(var)\n",
        "else:\n",
        "  print(\"false\")"
      ],
      "metadata": {
        "colab": {
          "base_uri": "https://localhost:8080/"
        },
        "id": "NVuihiDDarjI",
        "outputId": "218d96e3-bbb9-4bb7-fbea-103826be1844"
      },
      "execution_count": 6,
      "outputs": [
        {
          "output_type": "stream",
          "name": "stdout",
          "text": [
            "false\n"
          ]
        }
      ]
    },
    {
      "cell_type": "code",
      "source": [
        "#NESTED IF\n",
        "print(\"NESTED IF\")\n",
        "print(\"BUS TICKET\")\n",
        "age=int(input(\"enter age: \"))\n",
        "if age>12 and age<=18:\n",
        "  if age<15:\n",
        "    print(\"Quarter ticket\")\n",
        "  elif age==15:\n",
        "    print(\"Quarter ticket+discount\")\n",
        "  else:\n",
        "    print(\"Half ticket\")\n",
        "elif age>=19 and age<=60:\n",
        "  print(\"Full Ticket\")\n",
        "elif age>60:\n",
        "  print(\"Full Ticket + discount\")\n",
        "else:\n",
        "  print(\"no ticket\")"
      ],
      "metadata": {
        "colab": {
          "base_uri": "https://localhost:8080/"
        },
        "id": "61mYXY3IbtZW",
        "outputId": "81ec8713-340b-4219-8596-03a3d00da4c4"
      },
      "execution_count": 9,
      "outputs": [
        {
          "output_type": "stream",
          "name": "stdout",
          "text": [
            "NESTED IF\n",
            "BUS TICKET\n",
            "enter age: 8\n",
            "no ticket\n"
          ]
        }
      ]
    },
    {
      "cell_type": "code",
      "source": [
        "#LOOPS\n",
        "print(\"LOOPS\")\n",
        "print(\"FOR LOOP\")\n",
        "n=[6,5,9,21,29,34,25,32]\n",
        "sum=0\n",
        "for val in n:\n",
        "  sum=sum+val\n",
        "print(\"the sun is:\",sum)\n",
        "\n",
        "print(\"\\n\")\n",
        "for i in range(1,11):\n",
        "  print(i)\n",
        "\n",
        "print(\"\\n\")\n",
        "for i in range(1,11,2):\n",
        "  print(i)\n",
        "\n",
        "print(\"\\n\")\n",
        "x=[2,3,4,5,6,7,8,9]\n",
        "y=[]\n",
        "for a in x:\n",
        "  if a%2==0:\n",
        "    y.append(a)\n",
        "print(y)\n",
        "\n",
        "print(\"\\n\")\n",
        "#USING IF STATEMENTS\n",
        "print(\"USING IF STATEMENTS\")\n",
        "d=[0,1,5,7]\n",
        "for i in d:\n",
        "  print(i)\n",
        "else:\n",
        "  print(\"no items\")\n",
        "print(\"\\n\")\n",
        "\n",
        "for l in \"python\":\n",
        "  print(\"current letter is: \",l)\n",
        "\n",
        "print(\"\\n\")\n",
        "#ITERATION BY SEQ INDEXING\n",
        "print(\"ITERATION BY SEQ INDEXING\")\n",
        "fruit=['apple','banana','orange']\n",
        "for index in range(len(fruit)):\n",
        "  print('current fruit is: ',fruit[index])\n"
      ],
      "metadata": {
        "colab": {
          "base_uri": "https://localhost:8080/"
        },
        "id": "1eVMI6lPb5wf",
        "outputId": "45fdbb0f-7eee-4d53-f964-6583d32b2e47"
      },
      "execution_count": 10,
      "outputs": [
        {
          "output_type": "stream",
          "name": "stdout",
          "text": [
            "LOOPS\n",
            "FOR LOOP\n",
            "the sun is: 161\n",
            "\n",
            "\n",
            "1\n",
            "2\n",
            "3\n",
            "4\n",
            "5\n",
            "6\n",
            "7\n",
            "8\n",
            "9\n",
            "10\n",
            "\n",
            "\n",
            "1\n",
            "3\n",
            "5\n",
            "7\n",
            "9\n",
            "\n",
            "\n",
            "[2, 4, 6, 8]\n",
            "\n",
            "\n",
            "USING IF STATEMENTS\n",
            "0\n",
            "1\n",
            "5\n",
            "7\n",
            "no items\n",
            "\n",
            "\n",
            "current letter is:  p\n",
            "current letter is:  y\n",
            "current letter is:  t\n",
            "current letter is:  h\n",
            "current letter is:  o\n",
            "current letter is:  n\n",
            "\n",
            "\n",
            "ITERATION BY SEQ INDEXING\n",
            "current fruit is:  apple\n",
            "current fruit is:  banana\n",
            "current fruit is:  orange\n"
          ]
        }
      ]
    },
    {
      "cell_type": "code",
      "source": [
        "#WHILE LOOP\n",
        "print(\"WHILE LOOP\")\n",
        "count=0\n",
        "while (count<11):\n",
        "  print(count)\n",
        "  count=count+1\n",
        "\n",
        "count=0\n",
        "while (count<5):\n",
        "  print(count)\n",
        "  count=count+1\n",
        "else:\n",
        "  print(\"not less\")"
      ],
      "metadata": {
        "colab": {
          "base_uri": "https://localhost:8080/"
        },
        "id": "UcoQRRjAb9hX",
        "outputId": "9c78eb90-b177-4022-a6a6-ccc00502de39"
      },
      "execution_count": 11,
      "outputs": [
        {
          "output_type": "stream",
          "name": "stdout",
          "text": [
            "WHILE LOOP\n",
            "0\n",
            "1\n",
            "2\n",
            "3\n",
            "4\n",
            "5\n",
            "6\n",
            "7\n",
            "8\n",
            "9\n",
            "10\n",
            "0\n",
            "1\n",
            "2\n",
            "3\n",
            "4\n",
            "not less\n"
          ]
        }
      ]
    },
    {
      "cell_type": "code",
      "source": [
        "#NESTED LOOPS\n",
        "print(\"NESTED LOOPS\")\n",
        "print(\"MATRIX ADD\")\n",
        "x=[[1,2,3],\n",
        "   [4,5,6],\n",
        "   [7,8,9]]\n",
        "\n",
        "y=[[2,4,6],[2,5,8],[3,6,9]]\n",
        "\n",
        "res=[[0,0,0],[0,0,0],[0,0,0]]\n",
        "for i in range(len(x)):\n",
        "  for j in range(len(x[0])):\n",
        "    res[i][j]=x[i][j]+y[i][j]\n",
        "for r in res:\n",
        "    print(r)\n",
        "\n",
        "print(\"\\n\")\n",
        "print(\"MATRIX MUL\")\n",
        "x=[[1,2,3],\n",
        "   [4,5,6],\n",
        "   [7,8,9]]\n",
        "\n",
        "y=[[2,4,6],[2,5,8],[3,6,9]]\n",
        "\n",
        "res=[[0,0,0],[0,0,0],[0,0,0]]\n",
        "for i in range(len(x)):\n",
        "  for j in range(len(x[0])):\n",
        "    res[i][j]=x[i][j]*y[i][j]\n",
        "  for r in res:\n",
        "    print(r)"
      ],
      "metadata": {
        "colab": {
          "base_uri": "https://localhost:8080/"
        },
        "id": "UQoMfjOucHJw",
        "outputId": "e0447589-9680-4f04-8b54-f9c69097a0d0"
      },
      "execution_count": 14,
      "outputs": [
        {
          "output_type": "stream",
          "name": "stdout",
          "text": [
            "NESTED LOOPS\n",
            "MATRIX ADD\n",
            "[3, 6, 9]\n",
            "[6, 10, 14]\n",
            "[10, 14, 18]\n",
            "\n",
            "\n",
            "MATRIX MUL\n",
            "[2, 8, 18]\n",
            "[0, 0, 0]\n",
            "[0, 0, 0]\n",
            "[2, 8, 18]\n",
            "[8, 25, 48]\n",
            "[0, 0, 0]\n",
            "[2, 8, 18]\n",
            "[8, 25, 48]\n",
            "[21, 48, 81]\n"
          ]
        }
      ]
    },
    {
      "cell_type": "code",
      "source": [
        "num=int(input(\"ENTER LAST VALUE TO GET TABLESS: \"))\n",
        "i=1\n",
        "while(i<=num):\n",
        "  print(f\"Table {i}\")#rawstring\n",
        "  j=1\n",
        "  while(j<=10):\n",
        "    print(f\"{i}*{j}={i*j}\")\n",
        "    j=j+1\n",
        "  print(\"------------------------------------------------\")\n",
        "  i=i+1"
      ],
      "metadata": {
        "colab": {
          "base_uri": "https://localhost:8080/"
        },
        "id": "twB5fhYrhaqA",
        "outputId": "6bede93d-0359-4ee2-8703-ef45009207a9"
      },
      "execution_count": 18,
      "outputs": [
        {
          "output_type": "stream",
          "name": "stdout",
          "text": [
            "ENTER LAST VALUE TO GET TABLESS: 6\n",
            "Table 1\n",
            "1*1=1\n",
            "1*2=2\n",
            "1*3=3\n",
            "1*4=4\n",
            "1*5=5\n",
            "1*6=6\n",
            "1*7=7\n",
            "1*8=8\n",
            "1*9=9\n",
            "1*10=10\n",
            "------------------------------------------------\n",
            "Table 2\n",
            "2*1=2\n",
            "2*2=4\n",
            "2*3=6\n",
            "2*4=8\n",
            "2*5=10\n",
            "2*6=12\n",
            "2*7=14\n",
            "2*8=16\n",
            "2*9=18\n",
            "2*10=20\n",
            "------------------------------------------------\n",
            "Table 3\n",
            "3*1=3\n",
            "3*2=6\n",
            "3*3=9\n",
            "3*4=12\n",
            "3*5=15\n",
            "3*6=18\n",
            "3*7=21\n",
            "3*8=24\n",
            "3*9=27\n",
            "3*10=30\n",
            "------------------------------------------------\n",
            "Table 4\n",
            "4*1=4\n",
            "4*2=8\n",
            "4*3=12\n",
            "4*4=16\n",
            "4*5=20\n",
            "4*6=24\n",
            "4*7=28\n",
            "4*8=32\n",
            "4*9=36\n",
            "4*10=40\n",
            "------------------------------------------------\n",
            "Table 5\n",
            "5*1=5\n",
            "5*2=10\n",
            "5*3=15\n",
            "5*4=20\n",
            "5*5=25\n",
            "5*6=30\n",
            "5*7=35\n",
            "5*8=40\n",
            "5*9=45\n",
            "5*10=50\n",
            "------------------------------------------------\n",
            "Table 6\n",
            "6*1=6\n",
            "6*2=12\n",
            "6*3=18\n",
            "6*4=24\n",
            "6*5=30\n",
            "6*6=36\n",
            "6*7=42\n",
            "6*8=48\n",
            "6*9=54\n",
            "6*10=60\n",
            "------------------------------------------------\n"
          ]
        }
      ]
    },
    {
      "cell_type": "code",
      "source": [
        "#LOOP CONTROL STATEMENTS\n",
        "print(\"LOOP CONTROL STATEMENTS\")\n",
        "print(\"BREAK\")\n",
        "for l in 'python':\n",
        "  if l =='h':\n",
        "    break\n",
        "  print(l)\n",
        "\n",
        "int1=10\n",
        "while(int1>0):\n",
        "  print(int1)\n",
        "  int1=int1-1\n",
        "  if int1==5:\n",
        "    break\n",
        "\n",
        "#continue\n",
        "print(\"\\n\")\n",
        "print(\"CONTINUE\") \n",
        "for l in 'python':\n",
        " if l =='h':\n",
        "   continue\n",
        " print(l)\n",
        "\n",
        "int1=10\n",
        "while(int1>0):\n",
        "  print(int1)\n",
        "  int1=int1-1\n",
        "  if int1==5:\n",
        "    continue\n",
        "\n",
        "#PASS\n",
        "print(\"\\n\")\n",
        "print(\"PASS\")\n",
        "for l in 'python':\n",
        " if l =='h':\n",
        "   pass\n",
        " print(l)\n",
        "\n",
        "int1=10\n",
        "while(int1>0):\n",
        "  print(int1)\n",
        "  int1=int1-1\n",
        "  if int1==5:\n",
        "    pass"
      ],
      "metadata": {
        "colab": {
          "base_uri": "https://localhost:8080/"
        },
        "id": "iL2WVKYyhluv",
        "outputId": "d6e56e84-eab9-42b5-8169-7c7c9cda1eab"
      },
      "execution_count": 19,
      "outputs": [
        {
          "output_type": "stream",
          "name": "stdout",
          "text": [
            "LOOP CONTROL STATEMENTS\n",
            "BREAK\n",
            "p\n",
            "y\n",
            "t\n",
            "10\n",
            "9\n",
            "8\n",
            "7\n",
            "6\n",
            "\n",
            "\n",
            "CONTINUE\n",
            "p\n",
            "y\n",
            "t\n",
            "o\n",
            "n\n",
            "10\n",
            "9\n",
            "8\n",
            "7\n",
            "6\n",
            "5\n",
            "4\n",
            "3\n",
            "2\n",
            "1\n",
            "\n",
            "\n",
            "PASS\n",
            "p\n",
            "y\n",
            "t\n",
            "h\n",
            "o\n",
            "n\n",
            "10\n",
            "9\n",
            "8\n",
            "7\n",
            "6\n",
            "5\n",
            "4\n",
            "3\n",
            "2\n",
            "1\n"
          ]
        }
      ]
    },
    {
      "cell_type": "code",
      "source": [
        "str1=input(\"enter a string: \")\n",
        "str2=str1[::-1]\n",
        "if(str1==str2):\n",
        "  print(\"Palindrome\")\n",
        "else:\n",
        "  print(\"not\")"
      ],
      "metadata": {
        "colab": {
          "base_uri": "https://localhost:8080/"
        },
        "id": "xrC3QAudhvov",
        "outputId": "194b9106-188d-461f-fd61-4b7aa7a0b896"
      },
      "execution_count": 20,
      "outputs": [
        {
          "output_type": "stream",
          "name": "stdout",
          "text": [
            "enter a string: 6\n",
            "Palindrome\n"
          ]
        }
      ]
    },
    {
      "cell_type": "code",
      "source": [
        "for i in range(1,101):\n",
        "  str2=str(i)\n",
        "  if (str2==str2[::-1]):\n",
        "    print(\"yes the palindrome number is: \",i)"
      ],
      "metadata": {
        "colab": {
          "base_uri": "https://localhost:8080/"
        },
        "id": "UZXm_9MJh34S",
        "outputId": "abca63cb-03a2-4a63-9a96-70fc7d150b49"
      },
      "execution_count": 21,
      "outputs": [
        {
          "output_type": "stream",
          "name": "stdout",
          "text": [
            "yes the palindrome number is:  1\n",
            "yes the palindrome number is:  2\n",
            "yes the palindrome number is:  3\n",
            "yes the palindrome number is:  4\n",
            "yes the palindrome number is:  5\n",
            "yes the palindrome number is:  6\n",
            "yes the palindrome number is:  7\n",
            "yes the palindrome number is:  8\n",
            "yes the palindrome number is:  9\n",
            "yes the palindrome number is:  11\n",
            "yes the palindrome number is:  22\n",
            "yes the palindrome number is:  33\n",
            "yes the palindrome number is:  44\n",
            "yes the palindrome number is:  55\n",
            "yes the palindrome number is:  66\n",
            "yes the palindrome number is:  77\n",
            "yes the palindrome number is:  88\n",
            "yes the palindrome number is:  99\n"
          ]
        }
      ]
    },
    {
      "cell_type": "code",
      "source": [
        "#EVEN ODD LISTS\n",
        "a=[1,2,3,4,5,6,7,8,9]\n",
        "b=[]\n",
        "c=[]\n",
        "for i in a:\n",
        "  if(i%2==0):\n",
        "    b.append(i) \n",
        "  else:\n",
        "    c.append(i)\n",
        "print(c)\n",
        "print(b)"
      ],
      "metadata": {
        "colab": {
          "base_uri": "https://localhost:8080/"
        },
        "id": "nf9ZUk9jh9PX",
        "outputId": "b3dd428f-24b2-4a30-f0aa-0f7de559284f"
      },
      "execution_count": 22,
      "outputs": [
        {
          "output_type": "stream",
          "name": "stdout",
          "text": [
            "[1, 3, 5, 7, 9]\n",
            "[2, 4, 6, 8]\n"
          ]
        }
      ]
    },
    {
      "cell_type": "markdown",
      "source": [
        "Write a python program that generates desired output i.e, from countries list select out the country names that contain string “and”\n",
        "Output: [“Finland”,”Ireland”]"
      ],
      "metadata": {
        "id": "a5ssNEwoiDHe"
      }
    },
    {
      "cell_type": "code",
      "source": [
        "Countries_list=['Finland','Germany','Sweden','Ireland','Turkey']\n",
        "l=[]\n",
        "for i in Countries_list:\n",
        "  if(\"and\" in i):\n",
        "    l.append(i)\n",
        "print(l)"
      ],
      "metadata": {
        "colab": {
          "base_uri": "https://localhost:8080/"
        },
        "id": "M5hxElvZiBpx",
        "outputId": "397722f9-6069-4bbb-bde6-cd64f6f76146"
      },
      "execution_count": 24,
      "outputs": [
        {
          "output_type": "stream",
          "name": "stdout",
          "text": [
            "['Finland', 'Ireland']\n"
          ]
        }
      ]
    },
    {
      "cell_type": "markdown",
      "source": [
        "Write a python program that print respective grades of student: Grade – Outstanding for marks>=90\n",
        "\n",
        "Grade A+ for marks >=80, <90\n",
        "\n",
        "Grade A for marks >=70, <80\n",
        "\n",
        "Grade B for marks >=60 and <70\n",
        "\n",
        "<60 Grade C"
      ],
      "metadata": {
        "id": "JEdGWzzLjTD2"
      }
    },
    {
      "cell_type": "code",
      "source": [
        "m=int(input(\"enter marks: \"))\n",
        "if m>=90:\n",
        "  print(\"OUTSTANDING\")\n",
        "elif m>=80 and m<90:\n",
        "  print(\"A+\")\n",
        "elif m>=70 and m<80:\n",
        "  print(\"A\")\n",
        "elif m>=60 and m<70:\n",
        "  print(\"B\")\n",
        "else:\n",
        "  print(\"C\")"
      ],
      "metadata": {
        "colab": {
          "base_uri": "https://localhost:8080/"
        },
        "id": "94YxVhqOjU67",
        "outputId": "d7bdbfa1-3ad4-43cc-e0a5-32d4c7118075"
      },
      "execution_count": 25,
      "outputs": [
        {
          "output_type": "stream",
          "name": "stdout",
          "text": [
            "enter marks: 42\n",
            "C\n"
          ]
        }
      ]
    },
    {
      "cell_type": "markdown",
      "source": [
        "Create a list with name state list with 5 elements State_list = [“Delhi”,”Telangana”,”Goa”,”AP”,”Kerala”]\n",
        "\n",
        "Write a python program that extract first and last characters of each item and print in desired format.\n",
        "\n",
        "Input: [“Delhi”,”Telangana”,”Goa”,”AP”,”Kerala”]\n",
        "\n",
        "Output: dItAgAaOkA"
      ],
      "metadata": {
        "id": "Zc1N8VE9jbfw"
      }
    },
    {
      "cell_type": "code",
      "source": [
        "s=[\"rahul\",\"maha\",\"snehitha\",\"ram\",\"suhaas\"]\n",
        "l=[]\n",
        "for i in s:\n",
        "  l.append(i[0])\n",
        "  l.append(i[len(i)-1])\n",
        "print(l)\n",
        "dtr=\"\".join(l)\n",
        "#print(dtr)\n",
        "str1=dtr.swapcase()\n",
        "print(str1)"
      ],
      "metadata": {
        "colab": {
          "base_uri": "https://localhost:8080/"
        },
        "id": "GYBm6FtWje9f",
        "outputId": "c61bcb8c-c8ff-45cf-8ca5-94ea55be9eb4"
      },
      "execution_count": 27,
      "outputs": [
        {
          "output_type": "stream",
          "name": "stdout",
          "text": [
            "['r', 'l', 'm', 'a', 's', 'a', 'r', 'm', 's', 's']\n",
            "RLMASARMSS\n"
          ]
        }
      ]
    },
    {
      "cell_type": "code",
      "source": [
        "s=[\"Delhi\",\"Telangana\",\"Goa\",\"AP\",\"Kerala\"]\n",
        "str=\"\"\n",
        "for i in s:\n",
        "  str+=i[0].lower()+i[-1].upper()\n",
        "print(str)"
      ],
      "metadata": {
        "colab": {
          "base_uri": "https://localhost:8080/"
        },
        "id": "ySKVLkxVkB_O",
        "outputId": "7d91aa6e-cdd0-406f-8529-a87e9a4ca636"
      },
      "execution_count": 28,
      "outputs": [
        {
          "output_type": "stream",
          "name": "stdout",
          "text": [
            "dItAgAaPkA\n"
          ]
        }
      ]
    },
    {
      "cell_type": "code",
      "source": [
        "#USER DEFINED FUTN\n",
        "print(\"USER DEFINED FUTN\")\n",
        "def greet(name):\n",
        "  '''this futn greets a person'''\n",
        "  print(\"Hello,\"+name+\"Good morning\")\n",
        "greet(\"Chinnu\")"
      ],
      "metadata": {
        "colab": {
          "base_uri": "https://localhost:8080/"
        },
        "id": "NIfdacDFkJN5",
        "outputId": "c1f65bbc-ca06-4bb7-9f0b-c0083b2e1309"
      },
      "execution_count": 29,
      "outputs": [
        {
          "output_type": "stream",
          "name": "stdout",
          "text": [
            "USER DEFINED FUTN\n",
            "Hello,ChinnuGood morning\n"
          ]
        }
      ]
    },
    {
      "cell_type": "code",
      "source": [
        "#default\n",
        "def A(a,b=1,c=2):\n",
        "  return a+b+c\n",
        "print(A(0))\n",
        "print(A(3))\n",
        "print(A(4,4,4))"
      ],
      "metadata": {
        "colab": {
          "base_uri": "https://localhost:8080/"
        },
        "id": "TVc5R_HDkUoi",
        "outputId": "493b117f-5d36-4572-9ad9-ac6ecab9af9f"
      },
      "execution_count": 30,
      "outputs": [
        {
          "output_type": "stream",
          "name": "stdout",
          "text": [
            "3\n",
            "6\n",
            "12\n"
          ]
        }
      ]
    },
    {
      "cell_type": "code",
      "source": [
        "#KEYWORDS\n",
        "print(\"KEYWORDS\")\n",
        "def A(a,b=1,c=2):\n",
        "  return a+b+c\n",
        "print(A(a=2,b=3))\n",
        "print(A(c=3,a=1))"
      ],
      "metadata": {
        "colab": {
          "base_uri": "https://localhost:8080/"
        },
        "id": "pgKuFeXnkcM2",
        "outputId": "ed2d3f4c-2b95-4066-9583-c40ae9e9ad5e"
      },
      "execution_count": 31,
      "outputs": [
        {
          "output_type": "stream",
          "name": "stdout",
          "text": [
            "KEYWORDS\n",
            "7\n",
            "5\n"
          ]
        }
      ]
    },
    {
      "cell_type": "code",
      "source": [
        "#POSITIONAL\n",
        "def add(a,b,c):\n",
        "  return a+b+c\n",
        "print(add(10,20,30))\n",
        "print(add(10,b=20,c=30))"
      ],
      "metadata": {
        "colab": {
          "base_uri": "https://localhost:8080/"
        },
        "id": "E4J_YQVikqAD",
        "outputId": "8a809293-b25b-43ba-cf88-cdb68501c39e"
      },
      "execution_count": 32,
      "outputs": [
        {
          "output_type": "stream",
          "name": "stdout",
          "text": [
            "60\n",
            "60\n"
          ]
        }
      ]
    },
    {
      "cell_type": "code",
      "source": [
        "#ARBITARY KEYWORD\n",
        "def key_arg(**kwargs):\n",
        "  return kwargs\n",
        "my_dict=key_arg(Apples=10,Oranges=20,Banana=30)\n",
        "print(my_dict)\n",
        "print(my_dict['Banana'])"
      ],
      "metadata": {
        "colab": {
          "base_uri": "https://localhost:8080/"
        },
        "id": "nPc95pVVkuU8",
        "outputId": "d8837908-d5ea-448d-b7b7-375df49b2a95"
      },
      "execution_count": 33,
      "outputs": [
        {
          "output_type": "stream",
          "name": "stdout",
          "text": [
            "{'Apples': 10, 'Oranges': 20, 'Banana': 30}\n",
            "30\n"
          ]
        }
      ]
    },
    {
      "cell_type": "code",
      "source": [
        "#ARBITARY POSITIONAL\n",
        "def add_num(*n):\n",
        "  print(n)\n",
        "  print(sum(n))\n",
        "add_num(5,11,29)"
      ],
      "metadata": {
        "colab": {
          "base_uri": "https://localhost:8080/",
          "height": 321
        },
        "id": "ioeFIegHkydt",
        "outputId": "f58ce35f-1558-4ad6-bd02-03fbd1c46ef2"
      },
      "execution_count": 35,
      "outputs": [
        {
          "output_type": "stream",
          "name": "stdout",
          "text": [
            "(5, 11, 29)\n"
          ]
        },
        {
          "output_type": "error",
          "ename": "TypeError",
          "evalue": "ignored",
          "traceback": [
            "\u001b[0;31m---------------------------------------------------------------------------\u001b[0m",
            "\u001b[0;31mTypeError\u001b[0m                                 Traceback (most recent call last)",
            "\u001b[0;32m<ipython-input-35-99f68d09d01e>\u001b[0m in \u001b[0;36m<module>\u001b[0;34m()\u001b[0m\n\u001b[1;32m      3\u001b[0m   \u001b[0mprint\u001b[0m\u001b[0;34m(\u001b[0m\u001b[0mn\u001b[0m\u001b[0;34m)\u001b[0m\u001b[0;34m\u001b[0m\u001b[0;34m\u001b[0m\u001b[0m\n\u001b[1;32m      4\u001b[0m   \u001b[0mprint\u001b[0m\u001b[0;34m(\u001b[0m\u001b[0msum\u001b[0m\u001b[0;34m(\u001b[0m\u001b[0mn\u001b[0m\u001b[0;34m)\u001b[0m\u001b[0;34m)\u001b[0m\u001b[0;34m\u001b[0m\u001b[0;34m\u001b[0m\u001b[0m\n\u001b[0;32m----> 5\u001b[0;31m \u001b[0madd_num\u001b[0m\u001b[0;34m(\u001b[0m\u001b[0;36m5\u001b[0m\u001b[0;34m,\u001b[0m\u001b[0;36m11\u001b[0m\u001b[0;34m,\u001b[0m\u001b[0;36m29\u001b[0m\u001b[0;34m)\u001b[0m\u001b[0;34m\u001b[0m\u001b[0;34m\u001b[0m\u001b[0m\n\u001b[0m",
            "\u001b[0;32m<ipython-input-35-99f68d09d01e>\u001b[0m in \u001b[0;36madd_num\u001b[0;34m(*n)\u001b[0m\n\u001b[1;32m      2\u001b[0m \u001b[0;32mdef\u001b[0m \u001b[0madd_num\u001b[0m\u001b[0;34m(\u001b[0m\u001b[0;34m*\u001b[0m\u001b[0mn\u001b[0m\u001b[0;34m)\u001b[0m\u001b[0;34m:\u001b[0m\u001b[0;34m\u001b[0m\u001b[0;34m\u001b[0m\u001b[0m\n\u001b[1;32m      3\u001b[0m   \u001b[0mprint\u001b[0m\u001b[0;34m(\u001b[0m\u001b[0mn\u001b[0m\u001b[0;34m)\u001b[0m\u001b[0;34m\u001b[0m\u001b[0;34m\u001b[0m\u001b[0m\n\u001b[0;32m----> 4\u001b[0;31m   \u001b[0mprint\u001b[0m\u001b[0;34m(\u001b[0m\u001b[0msum\u001b[0m\u001b[0;34m(\u001b[0m\u001b[0mn\u001b[0m\u001b[0;34m)\u001b[0m\u001b[0;34m)\u001b[0m\u001b[0;34m\u001b[0m\u001b[0;34m\u001b[0m\u001b[0m\n\u001b[0m\u001b[1;32m      5\u001b[0m \u001b[0madd_num\u001b[0m\u001b[0;34m(\u001b[0m\u001b[0;36m5\u001b[0m\u001b[0;34m,\u001b[0m\u001b[0;36m11\u001b[0m\u001b[0;34m,\u001b[0m\u001b[0;36m29\u001b[0m\u001b[0;34m)\u001b[0m\u001b[0;34m\u001b[0m\u001b[0;34m\u001b[0m\u001b[0m\n",
            "\u001b[0;31mTypeError\u001b[0m: 'int' object is not callable"
          ]
        }
      ]
    },
    {
      "cell_type": "code",
      "source": [
        "#HIGHER ORDER FUTNS\n",
        "def shout(text):\n",
        "  return text.upper()\n",
        "\n",
        "def whisper(text):\n",
        "  return text.lower()\n",
        "\n",
        "def explain(func):\n",
        "  greet=func(\"Hii,i am higher order func\")\n",
        "  print(greet)\n",
        "explain(shout)\n",
        "explain(whisper)"
      ],
      "metadata": {
        "colab": {
          "base_uri": "https://localhost:8080/"
        },
        "id": "mBaBFKWMlJXQ",
        "outputId": "3943c475-ce9d-4bb0-f087-8b9947b67286"
      },
      "execution_count": 36,
      "outputs": [
        {
          "output_type": "stream",
          "name": "stdout",
          "text": [
            "HII,I AM HIGHER ORDER FUNC\n",
            "hii,i am higher order func\n"
          ]
        }
      ]
    },
    {
      "cell_type": "code",
      "source": [
        "#LAMBDA \n",
        "def inc(x):\n",
        "  x=x+1\n",
        "  return x\n",
        "print(inc(8))\n",
        "\n",
        "print((lambda x:x+1)(8))\n",
        "\n",
        "res=lambda x:x+1\n",
        "print(res(8))"
      ],
      "metadata": {
        "colab": {
          "base_uri": "https://localhost:8080/"
        },
        "id": "ZD3QuYEglPfV",
        "outputId": "5b606c7c-d1b4-4c0c-d417-46b910e0796e"
      },
      "execution_count": 37,
      "outputs": [
        {
          "output_type": "stream",
          "name": "stdout",
          "text": [
            "9\n",
            "9\n",
            "9\n"
          ]
        }
      ]
    },
    {
      "cell_type": "code",
      "source": [
        "print((lambda x,y:x**y)(2,2))\n",
        "print((lambda x,y:x+y)(2,2))\n",
        "print((lambda x,y:x-y)(2,2))"
      ],
      "metadata": {
        "colab": {
          "base_uri": "https://localhost:8080/"
        },
        "id": "CctKDSIOlU9L",
        "outputId": "b69de7b5-3333-4966-d34b-a0a1622d79c1"
      },
      "execution_count": 38,
      "outputs": [
        {
          "output_type": "stream",
          "name": "stdout",
          "text": [
            "4\n",
            "4\n",
            "0\n"
          ]
        }
      ]
    },
    {
      "cell_type": "code",
      "source": [
        "#MAPPINGG\n",
        "l=[1,2,3,4,5]\n",
        "#res=lambda x:x+2\n",
        "#print(res(l))"
      ],
      "metadata": {
        "id": "ZpvicUm7lbDq"
      },
      "execution_count": 39,
      "outputs": []
    },
    {
      "cell_type": "code",
      "source": [
        "l=[1,2,3,4,5]\n",
        "def inc(num):\n",
        "  return num+2\n",
        "res=list(map(inc,l))\n",
        "print(res)\n",
        "\n",
        "\n",
        "res=list(map(lambda x:x+2,l))\n",
        "print(res)"
      ],
      "metadata": {
        "colab": {
          "base_uri": "https://localhost:8080/"
        },
        "id": "GCNJp5Colf-s",
        "outputId": "6eccef20-8170-4664-8fa6-fcbf4cfffe49"
      },
      "execution_count": 40,
      "outputs": [
        {
          "output_type": "stream",
          "name": "stdout",
          "text": [
            "[3, 4, 5, 6, 7]\n",
            "[3, 4, 5, 6, 7]\n"
          ]
        }
      ]
    },
    {
      "cell_type": "code",
      "source": [
        "from typing_extensions import OrderedDict\n",
        "#EVEN OR ODD\n",
        "def eo(num):\n",
        "  if num%2==0:\n",
        "    return \"even\"\n",
        "  else:\n",
        "    return \"odd\"\n",
        "\n",
        "eo(2)\n",
        "\n",
        "\n",
        "l=[2,5,4,6,9,8,5,1]\n",
        "list(map(eo,l))"
      ],
      "metadata": {
        "colab": {
          "base_uri": "https://localhost:8080/"
        },
        "id": "x80gi4KollYW",
        "outputId": "4f59c1db-40f0-4341-93ad-23bf0392a14e"
      },
      "execution_count": 41,
      "outputs": [
        {
          "output_type": "execute_result",
          "data": {
            "text/plain": [
              "['even', 'odd', 'even', 'even', 'odd', 'even', 'odd', 'odd']"
            ]
          },
          "metadata": {},
          "execution_count": 41
        }
      ]
    },
    {
      "cell_type": "code",
      "source": [
        "l=['apples','banana','grapes']\n",
        "r=list(map(lambda x:x.capitalize(),l))\n",
        "print(r)"
      ],
      "metadata": {
        "colab": {
          "base_uri": "https://localhost:8080/"
        },
        "id": "Mj6sWLjFlqJN",
        "outputId": "b94849e3-5723-4735-b426-508dd9baf01a"
      },
      "execution_count": 42,
      "outputs": [
        {
          "output_type": "stream",
          "name": "stdout",
          "text": [
            "['Apples', 'Banana', 'Grapes']\n"
          ]
        }
      ]
    },
    {
      "cell_type": "code",
      "source": [
        "#FILTER\n",
        "def odd(n):\n",
        "  if n%2!=0:\n",
        "    return n\n",
        "my_list=[2,5,9,6,4,7,3]\n",
        "print(list(filter(odd,my_list)))\n",
        "\n",
        "l=[15,25,6,3,96,4,8]\n",
        "temp=list(filter(lambda x:x%2==0,l))\n",
        "print(temp)"
      ],
      "metadata": {
        "colab": {
          "base_uri": "https://localhost:8080/"
        },
        "id": "WMYvCpqJlw7M",
        "outputId": "0e86bd75-3fe2-4245-a1ad-ac15c3e85474"
      },
      "execution_count": 43,
      "outputs": [
        {
          "output_type": "stream",
          "name": "stdout",
          "text": [
            "[5, 9, 7, 3]\n",
            "[6, 96, 4, 8]\n"
          ]
        }
      ]
    },
    {
      "cell_type": "code",
      "source": [
        "#MODULES\n",
        "import os \n",
        "os.mkdir(\"hi\")\n",
        "os.chdir(\"hi\")\n",
        "os.getcwd()\n",
        "os.listdir()\n",
        "os.rmdir(\"/content/hi\")"
      ],
      "metadata": {
        "id": "Wuaqn6Ujl1uF"
      },
      "execution_count": 44,
      "outputs": []
    },
    {
      "cell_type": "code",
      "source": [
        "#MATH MODULE\n",
        "import math as m\n",
        "print(m.pi)\n",
        "print(m.e)\n",
        "print(m.sqrt(4))\n",
        "print(m.pow(2,2))\n",
        "print(m.floor(1.4))\n",
        "print(m.tan(1))\n",
        "print(m.log(4))"
      ],
      "metadata": {
        "colab": {
          "base_uri": "https://localhost:8080/"
        },
        "id": "poUcVJ5Rl6ca",
        "outputId": "89485d7a-f3f4-423b-ea15-f881d01b6853"
      },
      "execution_count": 45,
      "outputs": [
        {
          "output_type": "stream",
          "name": "stdout",
          "text": [
            "3.141592653589793\n",
            "2.718281828459045\n",
            "2.0\n",
            "4.0\n",
            "1\n",
            "1.5574077246549023\n",
            "1.3862943611198906\n"
          ]
        }
      ]
    },
    {
      "cell_type": "code",
      "source": [
        "#SYS MODULE\n",
        "import sys\n",
        "print(sys.path)\n",
        "print(sys.version)"
      ],
      "metadata": {
        "colab": {
          "base_uri": "https://localhost:8080/"
        },
        "id": "etPFMaugmEno",
        "outputId": "254c3492-7d35-4c52-95e2-497f983847a9"
      },
      "execution_count": 46,
      "outputs": [
        {
          "output_type": "stream",
          "name": "stdout",
          "text": [
            "['', '/content', '/env/python', '/usr/lib/python37.zip', '/usr/lib/python3.7', '/usr/lib/python3.7/lib-dynload', '/usr/local/lib/python3.7/dist-packages', '/usr/lib/python3/dist-packages', '/usr/local/lib/python3.7/dist-packages/IPython/extensions', '/root/.ipython']\n",
            "3.7.13 (default, Apr 24 2022, 01:04:09) \n",
            "[GCC 7.5.0]\n"
          ]
        }
      ]
    },
    {
      "cell_type": "code",
      "source": [
        "#STATISTICS MODULE\n",
        "import statistics as st\n",
        "print(st.mean([21,29,34]))\n",
        "print(st.median([21,29,34]))"
      ],
      "metadata": {
        "colab": {
          "base_uri": "https://localhost:8080/"
        },
        "id": "vxNGNhZhmJrW",
        "outputId": "52bc7ff0-d61b-4fc3-a53e-00af9e601012"
      },
      "execution_count": 47,
      "outputs": [
        {
          "output_type": "stream",
          "name": "stdout",
          "text": [
            "28\n",
            "29\n"
          ]
        }
      ]
    },
    {
      "cell_type": "code",
      "source": [
        "#TIME MODULE\n",
        "import time\n",
        "print(time.time())\n",
        "print(time.localtime())"
      ],
      "metadata": {
        "colab": {
          "base_uri": "https://localhost:8080/"
        },
        "id": "FC1EVLq7mNoS",
        "outputId": "08588b9a-3c5e-42cf-bdd6-908ad555c26b"
      },
      "execution_count": 48,
      "outputs": [
        {
          "output_type": "stream",
          "name": "stdout",
          "text": [
            "1655216596.6727617\n",
            "time.struct_time(tm_year=2022, tm_mon=6, tm_mday=14, tm_hour=14, tm_min=23, tm_sec=16, tm_wday=1, tm_yday=165, tm_isdst=0)\n"
          ]
        }
      ]
    },
    {
      "cell_type": "code",
      "source": [
        "#RANDOM MODULE\n",
        "import random\n",
        "print(random.randrange(1,50))\n",
        "print(random.randint(1,100))\n",
        "print(random.random())"
      ],
      "metadata": {
        "colab": {
          "base_uri": "https://localhost:8080/"
        },
        "id": "NXOy5gABmTEP",
        "outputId": "763310ef-ed8f-4915-bbaa-d0f62c6ae2d2"
      },
      "execution_count": 49,
      "outputs": [
        {
          "output_type": "stream",
          "name": "stdout",
          "text": [
            "28\n",
            "93\n",
            "0.9745609781101654\n"
          ]
        }
      ]
    },
    {
      "cell_type": "code",
      "source": [
        "import random\n",
        "gn=random.randint(0,5)\n",
        "g1=int(input(\"enter\"))\n",
        "if g1==gn:\n",
        "  print(\"won\")\n",
        "else:\n",
        "    print(\"lost\")"
      ],
      "metadata": {
        "colab": {
          "base_uri": "https://localhost:8080/"
        },
        "id": "XTOvLTI_mYBC",
        "outputId": "8b8ae1f9-6da1-4b8d-fb38-d24efd1717ce"
      },
      "execution_count": 51,
      "outputs": [
        {
          "output_type": "stream",
          "name": "stdout",
          "text": [
            "enter6\n",
            "lost\n"
          ]
        }
      ]
    },
    {
      "cell_type": "markdown",
      "source": [
        "Write a python program that remove items that are multiples of 5 from list: li=[1,2,5,6,7,10,15,25,65,78,90]\n",
        "\n",
        "o/p: [1,2,6,7,78]"
      ],
      "metadata": {
        "id": "NcXufpl9mfLa"
      }
    },
    {
      "cell_type": "code",
      "source": [
        "li=[1,2,5,6,7,10,15,25,65,78,90]\n",
        "l2=[]\n",
        "for i in li:\n",
        "   if i%5!=0:\n",
        "      l2.append(i)\n",
        "print(l2)"
      ],
      "metadata": {
        "colab": {
          "base_uri": "https://localhost:8080/"
        },
        "id": "bwOrMhJvmgTn",
        "outputId": "83bc01bf-e623-4697-8675-7adaa33ec077"
      },
      "execution_count": 57,
      "outputs": [
        {
          "output_type": "stream",
          "name": "stdout",
          "text": [
            "[1, 2, 6, 7, 78]\n"
          ]
        }
      ]
    },
    {
      "cell_type": "code",
      "source": [
        "li=[1,2,5,6,7,10,15,25,65,78,90]\n",
        "for i in li[:]:\n",
        "  if i%5==0:\n",
        "    li.remove(i)\n",
        "print(li)"
      ],
      "metadata": {
        "colab": {
          "base_uri": "https://localhost:8080/"
        },
        "id": "W_9ZkEI1nGra",
        "outputId": "e7b2a291-f519-41ff-d8d4-dcc7292acc6b"
      },
      "execution_count": 59,
      "outputs": [
        {
          "output_type": "stream",
          "name": "stdout",
          "text": [
            "[1, 2, 6, 7, 78]\n"
          ]
        }
      ]
    },
    {
      "cell_type": "markdown",
      "source": [
        "Write a python program that generates desired output from fruits list. Filter out the fruits names that don’t start with ‘A’\n",
        "\n",
        "Fruit=[“Apple”,”Banana”,”Pear”,”Avacado”,”Orange”,”Amla”]\n",
        "\n",
        "Output: [“Apple”,”Avacado”,”Amla”]"
      ],
      "metadata": {
        "id": "pj9f7Lt1nUN0"
      }
    },
    {
      "cell_type": "code",
      "source": [
        "Fruit=[\"Apple\",\"Banana\",\"Pear\",\"Avacado\",\"Orange\",\"Amla\"]\n",
        "l=[]\n",
        "for i in Fruit:\n",
        "  if i.startswith('A'):\n",
        "    l.append(i)\n",
        "print(l)"
      ],
      "metadata": {
        "colab": {
          "base_uri": "https://localhost:8080/"
        },
        "id": "zB4Ir7zLnV2a",
        "outputId": "5918ceea-6d59-4821-de1f-c5d555863934"
      },
      "execution_count": 60,
      "outputs": [
        {
          "output_type": "stream",
          "name": "stdout",
          "text": [
            "['Apple', 'Avacado', 'Amla']\n"
          ]
        }
      ]
    },
    {
      "cell_type": "code",
      "source": [
        "Fruit=[\"Apple\",\"Banana\",\"Pear\",\"Avacado\",\"Orange\",\"Amla\"]\n",
        "t=list(filter(lambda x:x[0]=='A',Fruit))\n",
        "print(t)"
      ],
      "metadata": {
        "colab": {
          "base_uri": "https://localhost:8080/"
        },
        "id": "hEdrocV_nfRc",
        "outputId": "2d57f066-b79f-4a88-8b6d-27b3c66bc108"
      },
      "execution_count": 61,
      "outputs": [
        {
          "output_type": "stream",
          "name": "stdout",
          "text": [
            "['Apple', 'Avacado', 'Amla']\n"
          ]
        }
      ]
    },
    {
      "cell_type": "markdown",
      "source": [
        "Mssg=”Welcome to gradstellar bootcamp” X=”number of occurrences of ‘o’ in mssg”\n",
        "\n",
        "Y=”number of occurrences of ‘e’ in mssg”\n",
        "\n",
        "Compute (X+Y)2"
      ],
      "metadata": {
        "id": "G1lfXgJPnjbM"
      }
    },
    {
      "cell_type": "code",
      "source": [
        "Mssg=\"Welcome to gradstellar bootcamp\"\n",
        "x=Mssg.count('o')\n",
        "y=Mssg.count('e')\n",
        "print(x,y)\n",
        "print((x+y)**2)"
      ],
      "metadata": {
        "colab": {
          "base_uri": "https://localhost:8080/"
        },
        "id": "_56cAUsXnkzZ",
        "outputId": "52f841a0-e564-4813-de7f-20d66529ddd4"
      },
      "execution_count": 62,
      "outputs": [
        {
          "output_type": "stream",
          "name": "stdout",
          "text": [
            "4 3\n",
            "49\n"
          ]
        }
      ]
    },
    {
      "cell_type": "markdown",
      "source": [
        "Write python program that filters a list by removing the elements that not start with vowel. I/P: [‘apple’,’orange’,’grapes’,’ball’,’bat’,’umbrella’]\n",
        "\n",
        "O/P: [‘apple’,’orange’,’umbrella’]"
      ],
      "metadata": {
        "id": "yNy06pcRnsf2"
      }
    },
    {
      "cell_type": "code",
      "source": [
        "li=[\"apple\",\"orange\",\"grapes\",\"ball\",\"bat\",\"umbrella\"]\n",
        "t=list(filter(lambda x:x[0] in 'AEIOUaeiou',li))\n",
        "print(t)"
      ],
      "metadata": {
        "colab": {
          "base_uri": "https://localhost:8080/"
        },
        "id": "9y4jHyiMnth3",
        "outputId": "0f367879-1dfb-45f8-afc0-3412394f879f"
      },
      "execution_count": 63,
      "outputs": [
        {
          "output_type": "stream",
          "name": "stdout",
          "text": [
            "['apple', 'orange', 'umbrella']\n"
          ]
        }
      ]
    },
    {
      "cell_type": "markdown",
      "source": [
        "Write a python program that displays unique element in a given list using function Li=[56,78,32,45,45,45,19,20]\n",
        "\n",
        "O/P: [56,78,32,45,19,20]"
      ],
      "metadata": {
        "id": "KU_lgrUgn2ov"
      }
    },
    {
      "cell_type": "code",
      "source": [
        "Li=[56,78,32,45,45,45,19,20]\n",
        "print(set(Li))"
      ],
      "metadata": {
        "colab": {
          "base_uri": "https://localhost:8080/"
        },
        "id": "J4qoMt6Yn9-S",
        "outputId": "3648e806-16fe-4c4c-a895-79ce8db61eb6"
      },
      "execution_count": 65,
      "outputs": [
        {
          "output_type": "stream",
          "name": "stdout",
          "text": [
            "{32, 45, 78, 19, 20, 56}\n"
          ]
        }
      ]
    }
  ]
}
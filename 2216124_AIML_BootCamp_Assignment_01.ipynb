{
  "nbformat": 4,
  "nbformat_minor": 0,
  "metadata": {
    "colab": {
      "name": "2216124 AIML_BootCamp Assignment-01.ipynb",
      "provenance": [],
      "authorship_tag": "ABX9TyPaw131y7TiglAt6NKWiAqJ",
      "include_colab_link": true
    },
    "kernelspec": {
      "name": "python3",
      "display_name": "Python 3"
    },
    "language_info": {
      "name": "python"
    }
  },
  "cells": [
    {
      "cell_type": "markdown",
      "metadata": {
        "id": "view-in-github",
        "colab_type": "text"
      },
      "source": [
        "<a href=\"https://colab.research.google.com/github/mahalaxmi2034/2216124_AIML_BootCamp/blob/main/2216124_AIML_BootCamp_Assignment_01.ipynb\" target=\"_parent\"><img src=\"https://colab.research.google.com/assets/colab-badge.svg\" alt=\"Open In Colab\"/></a>"
      ]
    },
    {
      "cell_type": "code",
      "execution_count": null,
      "metadata": {
        "id": "i0nZ01Y_svOH"
      },
      "outputs": [],
      "source": [
        "1.Implement the methods of String with examples"
      ]
    },
    {
      "cell_type": "code",
      "source": [
        "#STRINGS\n",
        "str=\"Mahalaxmi\"\n",
        "\n",
        "#indexing\n",
        "print(\"\\\\INDEXING\")\n",
        "print(str[1])\n",
        "print(str[-2])\n",
        "print(\"\\n\")\n",
        "\n",
        "#slicing\n",
        "print(\"\\\\SLICING\")\n",
        "print(str[:])#total\n",
        "print(str[1:])\n",
        "print(str[:3])\n",
        "print(str[-4:-2])\n",
        "print(str[0:6:4])\n",
        "print(\"\\n\")\n",
        "\n",
        "#reverse string\n",
        "print(\"\\\\REV STRING\")\n",
        "print(str[::-2])\n",
        "print(\"\\n\")\n",
        "\n",
        "#string operations\n",
        "print(\"\\\\STRING OPERATIONS\")\n",
        "str1=\"hello\"\n",
        "str2=\"world\"\n",
        "str3=str1+str2\n",
        "print(str3)\n",
        "str4=str1*2\n",
        "print(str4)\n",
        "print(\"\\n\")\n",
        "\n",
        "#string methods\n",
        "print(\"\\\\STRING METHODS\")\n",
        "my_str=\"Mahalaxmi\"\n",
        "print(my_str.upper())\n",
        "print(my_str.lower())\n",
        "print(my_str.swapcase())\n",
        "print(my_str.upper())\n",
        "print(my_str.title())\n",
        "print(\"\\n\")\n",
        "\n",
        "print(  \"ORIGINAL\")\n",
        "str01=\"mahalaxmi koleti\"\n",
        "print(str01)\n",
        "print(\"---upper\")\n",
        "print(str01.upper())\n",
        "print(\"--lower\")\n",
        "print(str01.lower())\n",
        "print(\"--swapcase\")\n",
        "print(str01.swapcase())\n",
        "print(\"--title\")\n",
        "print(str01.title())\n",
        "print(\"--capitalize\")\n",
        "print(str01.capitalize())\n",
        "print(\"\\n\")\n",
        "str5=\"     This is mahalaxmi form sru    \"\n",
        "print(str5)\n",
        "print(\"--strip\")\n",
        "print(str5.strip())\n",
        "print(\"--lstrip\")\n",
        "print(str5.lstrip())\n",
        "print(\"--rstrip\")\n",
        "print(str5.rstrip())\n",
        "print(\"\\n\")"
      ],
      "metadata": {
        "colab": {
          "base_uri": "https://localhost:8080/"
        },
        "id": "iwKbsJFE4o3c",
        "outputId": "efbbf2db-1712-44c0-89ec-859395d08bf5"
      },
      "execution_count": null,
      "outputs": [
        {
          "output_type": "stream",
          "name": "stdout",
          "text": [
            "\\INDEXING\n",
            "a\n",
            "m\n",
            "\n",
            "\n",
            "\\SLICING\n",
            "Mahalaxmi\n",
            "ahalaxmi\n",
            "Mah\n",
            "ax\n",
            "Ml\n",
            "\n",
            "\n",
            "\\REV STRING\n",
            "ixlhM\n",
            "\n",
            "\n",
            "\\STRING OPERATIONS\n",
            "helloworld\n",
            "hellohello\n",
            "\n",
            "\n",
            "\\STRING METHODS\n",
            "MAHALAXMI\n",
            "mahalaxmi\n",
            "mAHALAXMI\n",
            "MAHALAXMI\n",
            "Mahalaxmi\n",
            "\n",
            "\n",
            "ORIGINAL\n",
            "mahalaxmi koleti\n",
            "---upper\n",
            "MAHALAXMI KOLETI\n",
            "--lower\n",
            "mahalaxmi koleti\n",
            "--swapcase\n",
            "MAHALAXMI KOLETI\n",
            "--title\n",
            "Mahalaxmi Koleti\n",
            "--capitalize\n",
            "Mahalaxmi koleti\n",
            "\n",
            "\n",
            "     This is mahalaxmi form sru    \n",
            "--strip\n",
            "This is mahalaxmi form sru\n",
            "--lstrip\n",
            "This is mahalaxmi form sru    \n",
            "--rstrip\n",
            "     This is mahalaxmi form sru\n",
            "\n",
            "\n"
          ]
        }
      ]
    },
    {
      "cell_type": "markdown",
      "source": [
        "2.Implement the methods of List with examples"
      ],
      "metadata": {
        "id": "ahWXv6_XB59e"
      }
    },
    {
      "cell_type": "code",
      "source": [
        "list_1=[2,4,6,8,9]\n",
        "list_2=['s','r','u','n','i','v','e','r','s','i','t','y']\n",
        "list_3=[[3,5,7,9],\"hello\",11.048]\n",
        "#indexing\n",
        "print(list_1[3])\n",
        "#slicing\n",
        "print(list_2[2:6])\n",
        "#nested list\n",
        "print(list_3[0][3])\n",
        "print(list_3[1][2])\n",
        "print(list_3[1][1])\n",
        "\n",
        "list_1.append(3)\n",
        "print(list_1)\n",
        "\n",
        "list_2.extend(['h','e','l','l','o'])\n",
        "print(list_2)\n",
        "\n",
        "list_3.insert(4,0.6)\n",
        "print(list_3)\n",
        "\n",
        "del list_3[2]\n",
        "print(list_3)\n",
        "\n",
        "del list_1[0:3]\n",
        "print(list_1)\n",
        "\n",
        "list_2.remove('e')\n",
        "print(list_2)\n",
        "\n",
        "list_1.pop()\n",
        "print(list_1)\n",
        "\n",
        "list_2.clear()\n",
        "print(list_2)\n",
        "\n",
        "print(list_3.count(3))\n",
        "\n",
        "print(len(list_3))\n",
        "\n",
        "print(list_3.reverse())\n",
        "\n",
        "print(list_2.sort())"
      ],
      "metadata": {
        "id": "bhCRIRCGCHM9",
        "colab": {
          "base_uri": "https://localhost:8080/"
        },
        "outputId": "1389aca0-2d9c-43a1-a0d3-a1cf314a7548"
      },
      "execution_count": 4,
      "outputs": [
        {
          "output_type": "stream",
          "name": "stdout",
          "text": [
            "8\n",
            "['u', 'n', 'i', 'v']\n",
            "9\n",
            "l\n",
            "e\n",
            "[2, 4, 6, 8, 9, 3]\n",
            "['s', 'r', 'u', 'n', 'i', 'v', 'e', 'r', 's', 'i', 't', 'y', 'h', 'e', 'l', 'l', 'o']\n",
            "[[3, 5, 7, 9], 'hello', 11.048, 0.6]\n",
            "[[3, 5, 7, 9], 'hello', 0.6]\n",
            "[8, 9, 3]\n",
            "['s', 'r', 'u', 'n', 'i', 'v', 'r', 's', 'i', 't', 'y', 'h', 'e', 'l', 'l', 'o']\n",
            "[8, 9]\n",
            "[]\n",
            "0\n",
            "3\n",
            "None\n",
            "None\n"
          ]
        }
      ]
    },
    {
      "cell_type": "markdown",
      "source": [
        "3.Implement the methods of Tuple with examples."
      ],
      "metadata": {
        "id": "NC0TFp53zrFI"
      }
    },
    {
      "cell_type": "code",
      "source": [
        "tuple_1=(\"gradstellar\",\"camp\",12.666)\n",
        "tuple_2=(2,4,6,8,5)\n",
        "tuple_3=(\"python\",\"learning\")\n",
        "print(tuple_1.count(\"gradstellar\"))\n",
        "print(tuple_2.index(4))\n",
        "print(min(tuple_3))\n",
        "print(max(tuple_3))\n",
        "print(len(tuple_1))\n",
        "print(tuple_1[2])\n",
        "print(tuple_2[-3])\n",
        "print(tuple_3[-1][2])"
      ],
      "metadata": {
        "colab": {
          "base_uri": "https://localhost:8080/"
        },
        "id": "7yWWPV70zyFO",
        "outputId": "a6486e84-6e58-48e1-ffc1-10b1af4b4a5c"
      },
      "execution_count": 7,
      "outputs": [
        {
          "output_type": "stream",
          "name": "stdout",
          "text": [
            "1\n",
            "1\n",
            "learning\n",
            "python\n",
            "3\n",
            "12.666\n",
            "6\n",
            "a\n"
          ]
        }
      ]
    },
    {
      "cell_type": "markdown",
      "source": [
        "4.Implement the methods of Dictionary with examples."
      ],
      "metadata": {
        "id": "wnUF_gdB1EZT"
      }
    },
    {
      "cell_type": "code",
      "source": [
        "z={\"name\":\"mahalaxmi\",\"phn\":888888888,\"age\":20}\n",
        "print(\"--DICT METHODS--\")\n",
        "print(\"--GET\")\n",
        "print(z.get(\"phn\"))\n",
        "print(z['name'])\n",
        "print(\"--KEYS\")\n",
        "print(z.keys())\n",
        "print(\"--VALUES\")\n",
        "print(z.values())"
      ],
      "metadata": {
        "colab": {
          "base_uri": "https://localhost:8080/"
        },
        "id": "9WQ3yH9A1LE5",
        "outputId": "2c71a561-fc47-438f-be9c-166ed3b223f1"
      },
      "execution_count": 8,
      "outputs": [
        {
          "output_type": "stream",
          "name": "stdout",
          "text": [
            "--DICT METHODS--\n",
            "--GET\n",
            "888888888\n",
            "mahalaxmi\n",
            "--KEYS\n",
            "dict_keys(['name', 'phn', 'age'])\n",
            "--VALUES\n",
            "dict_values(['mahalaxmi', 888888888, 20])\n"
          ]
        }
      ]
    },
    {
      "cell_type": "markdown",
      "source": [
        "5.Implement the methods of Set with examples."
      ],
      "metadata": {
        "id": "IkJbluUF2CPy"
      }
    },
    {
      "cell_type": "code",
      "source": [
        "str={3,5,2,8,9}\n",
        "str.add(4)\n",
        "print(str)\n",
        "str.update([0,6,1])\n",
        "print(str)\n",
        "str.remove(8)\n",
        "print(str)\n",
        "str.discard(4)\n",
        "print(str)\n",
        "str_1={10,3,2,6,8,5}\n",
        "\n",
        "#intersection\n",
        "print(str&str_1)\n",
        "print(str.intersection(str_1))\n",
        "print(str_1.intersection(str))\n",
        "\n",
        "#difference\n",
        "print(str-str_1)\n",
        "print(str.difference(str_1))\n",
        "\n",
        "#union\n",
        "print(str|str_1)\n",
        "print(str.union(str_1))\n",
        "print(str_1.union(str))"
      ],
      "metadata": {
        "colab": {
          "base_uri": "https://localhost:8080/"
        },
        "id": "7BSWf8s02FI8",
        "outputId": "1b903e37-057c-4f51-beff-93612b82feee"
      },
      "execution_count": 11,
      "outputs": [
        {
          "output_type": "stream",
          "name": "stdout",
          "text": [
            "{2, 3, 4, 5, 8, 9}\n",
            "{0, 1, 2, 3, 4, 5, 6, 8, 9}\n",
            "{0, 1, 2, 3, 4, 5, 6, 9}\n",
            "{0, 1, 2, 3, 5, 6, 9}\n",
            "{2, 3, 5, 6}\n",
            "{2, 3, 5, 6}\n",
            "{2, 3, 5, 6}\n",
            "{0, 1, 9}\n",
            "{0, 1, 9}\n",
            "{0, 1, 2, 3, 5, 6, 8, 9, 10}\n",
            "{0, 1, 2, 3, 5, 6, 8, 9, 10}\n",
            "{0, 1, 2, 3, 5, 6, 8, 9, 10}\n"
          ]
        }
      ]
    },
    {
      "cell_type": "markdown",
      "source": [
        "6.Write a python program to convert Decimal to Binary, Octal and Hexadecimal with direct method."
      ],
      "metadata": {
        "id": "s3ncruZP3HSP"
      }
    },
    {
      "cell_type": "code",
      "source": [
        "n=int(input(\"ENTER A VALUE: \"))\n",
        "print(bin(n))\n",
        "print(oct(n))\n",
        "print(hex(n))"
      ],
      "metadata": {
        "colab": {
          "base_uri": "https://localhost:8080/"
        },
        "id": "h9HWOF_j3PWn",
        "outputId": "80e5dbee-8c83-4eb4-d9ae-41204a0a22a5"
      },
      "execution_count": 12,
      "outputs": [
        {
          "output_type": "stream",
          "name": "stdout",
          "text": [
            "ENTER A VALUE: 30\n",
            "0b11110\n",
            "0o36\n",
            "0x1e\n"
          ]
        }
      ]
    },
    {
      "cell_type": "markdown",
      "source": [
        "7.Implement Arithmetic operators with examples."
      ],
      "metadata": {
        "id": "mHLpbIB33m4m"
      }
    },
    {
      "cell_type": "code",
      "source": [
        "#arithmetic operators\n",
        "a=6\n",
        "b=8\n",
        "print(\"--ADD\")\n",
        "print(a+b)\n",
        "print(\"--SUB\")\n",
        "print(a-b)\n",
        "print(\"--MUL\")\n",
        "print(a*b)\n",
        "print(\"--DIV\")\n",
        "print(a/b) #WITH FLOAT VALUE\n",
        "print(a//b)#WITHOUT FLOAT VALUE\n",
        "print(\"--MOD DIV\")\n",
        "print(a%b)\n",
        "print(\"--POWER\")\n",
        "print(a**b)"
      ],
      "metadata": {
        "colab": {
          "base_uri": "https://localhost:8080/"
        },
        "id": "p8WNd50x3qss",
        "outputId": "edfda4d1-fb6c-45cf-d39f-72b0f54ac79f"
      },
      "execution_count": 14,
      "outputs": [
        {
          "output_type": "stream",
          "name": "stdout",
          "text": [
            "--ADD\n",
            "14\n",
            "--SUB\n",
            "-2\n",
            "--MUL\n",
            "48\n",
            "--DIV\n",
            "0.75\n",
            "0\n",
            "--MOD DIV\n",
            "6\n",
            "--POWER\n",
            "1679616\n"
          ]
        }
      ]
    },
    {
      "cell_type": "markdown",
      "source": [
        "8.Implement Assignment operators with examples."
      ],
      "metadata": {
        "id": "YG5lAmg339QM"
      }
    },
    {
      "cell_type": "code",
      "source": [
        "a=8\n",
        "b=4\n",
        "\n",
        "print(a)\n",
        "\n",
        "a+=3\n",
        "print(a)\n",
        "\n",
        "a-=3\n",
        "print(a)\n",
        "\n",
        "a*=3\n",
        "print(a)\n",
        "\n",
        "a/=3\n",
        "print(a)\n",
        "\n",
        "a%=3\n",
        "print(a)\n",
        "\n",
        "b//=3\n",
        "print(b)\n",
        "\n",
        "b**=3\n",
        "print(b)\n"
      ],
      "metadata": {
        "colab": {
          "base_uri": "https://localhost:8080/"
        },
        "id": "Lbm46Ppp4G_-",
        "outputId": "ee19c304-25a2-4a2e-ad95-6bef88dfadd2"
      },
      "execution_count": 15,
      "outputs": [
        {
          "output_type": "stream",
          "name": "stdout",
          "text": [
            "8\n",
            "11\n",
            "8\n",
            "24\n",
            "8.0\n",
            "2.0\n",
            "1\n",
            "1\n"
          ]
        }
      ]
    },
    {
      "cell_type": "markdown",
      "source": [
        "9.Implement Comparison operators with examples."
      ],
      "metadata": {
        "id": "EvLSyRtx4OQ1"
      }
    },
    {
      "cell_type": "code",
      "source": [
        "p=845\n",
        "q=450\n",
        "print(p==q)\n",
        "print(p!=q)\n",
        "print(p>q)\n",
        "print(p<q)\n",
        "print(p>=q)\n",
        "print(p<=q)"
      ],
      "metadata": {
        "colab": {
          "base_uri": "https://localhost:8080/"
        },
        "id": "E85QGSGx4cUV",
        "outputId": "b13404b1-328c-4f66-c978-c93c20e6793d"
      },
      "execution_count": 16,
      "outputs": [
        {
          "output_type": "stream",
          "name": "stdout",
          "text": [
            "False\n",
            "True\n",
            "True\n",
            "False\n",
            "True\n",
            "False\n"
          ]
        }
      ]
    },
    {
      "cell_type": "markdown",
      "source": [
        "10.Implement Logical operators with examples."
      ],
      "metadata": {
        "id": "5Le4Ahya4kQr"
      }
    },
    {
      "cell_type": "code",
      "source": [
        "x=True\n",
        "y=False\n",
        "print(\"--AND\")\n",
        "print(\"x and y is\",x and y)\n",
        "print(\"--OR\")\n",
        "print(\"x or y is\",x or y)\n",
        "print(\"--NOT\")\n",
        "print(\"x not is\",not x)"
      ],
      "metadata": {
        "colab": {
          "base_uri": "https://localhost:8080/"
        },
        "id": "nIyMk8pA4uT7",
        "outputId": "9c4583f7-7f0e-49b3-c26b-6ed3d52173a0"
      },
      "execution_count": 17,
      "outputs": [
        {
          "output_type": "stream",
          "name": "stdout",
          "text": [
            "--AND\n",
            "x and y is False\n",
            "--OR\n",
            "x or y is True\n",
            "--NOT\n",
            "x not is False\n"
          ]
        }
      ]
    },
    {
      "cell_type": "markdown",
      "source": [
        "11.Implement Bitwise operators with examples."
      ],
      "metadata": {
        "id": "N3qZce0i41Va"
      }
    },
    {
      "cell_type": "code",
      "source": [
        "#bitwise operators\n",
        "a=8\n",
        "B=14\n",
        "print(\"--AND\")\n",
        "print(a&b)\n",
        "print(\"--AXOR\")\n",
        "print(a^b)\n",
        "print(\"--OR\")\n",
        "print(a|b)\n",
        "print(\"--NOT\")\n",
        "print(~a)\n",
        "print(\"--R SHIFT\")\n",
        "print(a>>2)\n",
        "print(\"--L SHIFT\")\n",
        "print(a<<4)#left shift"
      ],
      "metadata": {
        "colab": {
          "base_uri": "https://localhost:8080/"
        },
        "id": "uCOb47Sv48sr",
        "outputId": "5be24a12-886c-42a7-fcb7-218b51007032"
      },
      "execution_count": 18,
      "outputs": [
        {
          "output_type": "stream",
          "name": "stdout",
          "text": [
            "--AND\n",
            "0\n",
            "--AXOR\n",
            "9\n",
            "--OR\n",
            "9\n",
            "--NOT\n",
            "-9\n",
            "--R SHIFT\n",
            "2\n",
            "--L SHIFT\n",
            "128\n"
          ]
        }
      ]
    },
    {
      "cell_type": "markdown",
      "source": [
        "12.Implement Membership operators with examples."
      ],
      "metadata": {
        "id": "ZgjpvvNM5HdP"
      }
    },
    {
      "cell_type": "code",
      "source": [
        "x=\"mahalaxmi koleti\"\n",
        "y={1:'a',2:'b'}\n",
        "print('H' in x)\n",
        "print(1 in y)\n",
        "print('a'in y)"
      ],
      "metadata": {
        "colab": {
          "base_uri": "https://localhost:8080/"
        },
        "id": "eAHCHuh05NuA",
        "outputId": "959eed7c-142f-45e1-dce5-5283c4a8db93"
      },
      "execution_count": 20,
      "outputs": [
        {
          "output_type": "stream",
          "name": "stdout",
          "text": [
            "False\n",
            "True\n",
            "False\n"
          ]
        }
      ]
    },
    {
      "cell_type": "markdown",
      "source": [
        "13.Implement Identity operators with examples"
      ],
      "metadata": {
        "id": "ULOGc1Us5jBA"
      }
    },
    {
      "cell_type": "code",
      "source": [
        "p=945\n",
        "q='333'\n",
        "print(p is not q)\n",
        "print(p is q)"
      ],
      "metadata": {
        "colab": {
          "base_uri": "https://localhost:8080/"
        },
        "id": "OL6Duwdx5pGC",
        "outputId": "e9b2a0f0-0e9b-497d-a8ea-0f3a69f8d763"
      },
      "execution_count": 21,
      "outputs": [
        {
          "output_type": "stream",
          "name": "stdout",
          "text": [
            "True\n",
            "False\n"
          ]
        }
      ]
    },
    {
      "cell_type": "markdown",
      "source": [
        "# New Section"
      ],
      "metadata": {
        "id": "c4gCr00M5y4-"
      }
    },
    {
      "cell_type": "markdown",
      "source": [
        "14.Demonstrate Negative indexing for List and apply slicing."
      ],
      "metadata": {
        "id": "eUt0geaL6R2k"
      }
    },
    {
      "cell_type": "markdown",
      "source": [
        ""
      ],
      "metadata": {
        "id": "Ajv7fZXC6L1C"
      }
    },
    {
      "cell_type": "code",
      "source": [
        "Index=[22,33,55,74,36,47,74,'mahalaxmi']\n",
        "#slicing\n",
        "print(Index[4:])\n",
        "print(Index[:])\n",
        "print(Index[::-3])\n",
        "print(Index[-3])\n",
        "print(Index[-4])\n",
        "print(Index[-5])"
      ],
      "metadata": {
        "colab": {
          "base_uri": "https://localhost:8080/"
        },
        "id": "AC_YtVKc6NXh",
        "outputId": "50e6f262-40e6-4b6f-d0ff-21d6dcb0a1a6"
      },
      "execution_count": 23,
      "outputs": [
        {
          "output_type": "stream",
          "name": "stdout",
          "text": [
            "[36, 47, 74, 'mahalaxmi']\n",
            "[22, 33, 55, 74, 36, 47, 74, 'mahalaxmi']\n",
            "['mahalaxmi', 36, 33]\n",
            "47\n",
            "36\n",
            "74\n"
          ]
        }
      ]
    },
    {
      "cell_type": "markdown",
      "source": [
        "15.Predict the output for the given code snippet and justify the result.\n",
        "print( 'A series of characters designated as one object known as a string'[::-1][4::3] ) Here [::-1] means the string is reversing and [4::3] means string starts from 4th index with size of pointer as 3 print(\"------------\") print( 'welcome to Python traing program'[3:10][::-1]) Here [3:10] the string starts from 3rd index and stops at 10th index and it will be reversed."
      ],
      "metadata": {
        "id": "JOUejYwb7DqA"
      }
    },
    {
      "cell_type": "code",
      "source": [
        "print( 'A series of characters designated as one object known as a string'[::-1][4::3] )\n",
        "print(\"------------\")\n",
        "print( 'welcome to Python traing program'[3:10][::-1])"
      ],
      "metadata": {
        "colab": {
          "base_uri": "https://localhost:8080/"
        },
        "id": "xTbf_k7H7RN9",
        "outputId": "3be2c287-1899-4dce-9166-96509e82f5b4"
      },
      "execution_count": 24,
      "outputs": [
        {
          "output_type": "stream",
          "name": "stdout",
          "text": [
            "taawkcbe  tgestrcoeeA\n",
            "------------\n",
            "ot emoc\n"
          ]
        }
      ]
    },
    {
      "cell_type": "markdown",
      "source": [
        "16.Write a python code to get desired output Input string : p_phrase = \"was it a car or a cat I saw\" Output string : WAS I TAC A RO RAC A TI SAW"
      ],
      "metadata": {
        "id": "Xd-COb4_7g5z"
      }
    },
    {
      "cell_type": "code",
      "source": [
        "p_phrase=\"hello sru\"\n",
        "str=p_phrase.upper()\n",
        "print(str[::-1])"
      ],
      "metadata": {
        "colab": {
          "base_uri": "https://localhost:8080/"
        },
        "id": "qcNE5zYL7a0n",
        "outputId": "2b60501a-d8b3-4bc8-dcce-2cda63e085f4"
      },
      "execution_count": 26,
      "outputs": [
        {
          "output_type": "stream",
          "name": "stdout",
          "text": [
            "URS OLLEH\n"
          ]
        }
      ]
    },
    {
      "cell_type": "markdown",
      "source": [
        ""
      ],
      "metadata": {
        "id": "X6U67dXk7xsI"
      }
    },
    {
      "cell_type": "markdown",
      "source": [
        "17.You are required to generate a word similar to ZOO, X and Y that denote the number of Zs and Os respectively. The generated word similar to ZOO where Y= 2 * X. Input X= 2 Output ZZOOOO Input X= 5 Output ZZZZZOOOOOOOOOO"
      ],
      "metadata": {
        "id": "S3xN5b5l76LI"
      }
    },
    {
      "cell_type": "code",
      "source": [
        "x=int(input(\"enter number\"))\n",
        "print(\"the value of x is {}\".format(x))\n",
        "y=x*2\n",
        "print(\"the value of x is {}\".format(y))\n",
        "#print('Z'*x\"+\"'O'*y)\n",
        "print(\"Z\"*x,\"O\"*y,sep='')"
      ],
      "metadata": {
        "colab": {
          "base_uri": "https://localhost:8080/"
        },
        "id": "E6beUuDX7eWu",
        "outputId": "86ac2a0a-5323-4047-b34b-0e65972f8b3b"
      },
      "execution_count": 27,
      "outputs": [
        {
          "output_type": "stream",
          "name": "stdout",
          "text": [
            "enter number6\n",
            "the value of x is 6\n",
            "the value of x is 12\n",
            "ZZZZZZOOOOOOOOOOOO\n"
          ]
        }
      ]
    },
    {
      "cell_type": "markdown",
      "source": [
        ""
      ],
      "metadata": {
        "id": "X5I2vtBq7bVG"
      }
    }
  ]
}